{
 "cells": [
  {
   "cell_type": "code",
   "execution_count": 136,
   "metadata": {},
   "outputs": [],
   "source": [
    "import mdptoolbox as mtp\n",
    "import numpy as np\n",
    "import random"
   ]
  },
  {
   "cell_type": "code",
   "execution_count": 150,
   "metadata": {},
   "outputs": [],
   "source": [
    "def show(n, state, epsilon):\n",
    "    \n",
    "    global fitExercise \n",
    "    global fitRelax\n",
    "    global unfitExercise \n",
    "    global unfitRelax \n",
    "    \n",
    "\n",
    "    fitExercise = []\n",
    "    fitRelax = []\n",
    "    unfitExercise = []\n",
    "    unfitRelax = []\n",
    "    \n",
    "    pFitWithEx = 0.99\n",
    "    puFitWithEx = 0.2\n",
    "    pFitWithRel = 0.7\n",
    "    puFitWithRel = 0\n",
    "    \n",
    "    fitExerciseReward = 8\n",
    "    unfitExerciseReward = 0\n",
    "    fitRelaxReward = 10\n",
    "    unfitRelaxReward = 5\n",
    "        \n",
    "    fitRew = fitRelaxReward\n",
    "    unfitRew = unfitRelaxReward\n",
    "        \n",
    "    exStartWhenFit = pFitWithEx*fitExerciseReward + (1-pFitWithEx)*fitExerciseReward\n",
    "    relStartWhenFit = pFitWithRel*fitRelaxReward + (1-pFitWithRel)*fitRelaxReward\n",
    "    exStartWhenUnfit = (1-puFitWithEx)*0 + puFitWithEx*0\n",
    "    relStartWhenUnfit = (1-puFitWithRel)*unfitRelaxReward \n",
    "    \n",
    "    fitExercise.append(exStartWhenFit)\n",
    "    fitRelax.append(relStartWhenFit)\n",
    "    unfitExercise.append(exStartWhenUnfit)\n",
    "    unfitRelax.append(relStartWhenUnfit)\n",
    "        \n",
    "    \n",
    "    for i in range(1,n+1):\n",
    "        fitExRew = exStartWhenFit + epsilon*(pFitWithEx*fitRew + (1-pFitWithEx)*unfitRew)\n",
    "        unfitExRew = exStartWhenUnfit + epsilon*(puFitWithEx*fitRew + (1-puFitWithEx)*unfitRew)\n",
    "        fitRelRew = relStartWhenFit + epsilon*(pFitWithRel*fitRew + (1-pFitWithRel)*unfitRew)\n",
    "        unfitRelRew = relStartWhenUnfit + epsilon*(puFitWithRel*fitRew + (1-puFitWithRel)*unfitRew)\n",
    "            \n",
    "        fitRew = max(fitExRew,fitRelRew)\n",
    "        unfitRew = max(unfitExRew,unfitRelRew)\n",
    "            \n",
    "        fitExercise.append(fitExRew)\n",
    "        fitRelax.append(fitRelRew)\n",
    "        unfitExercise.append(unfitExRew)\n",
    "        unfitRelax.append(unfitRelRew)\n",
    "\n",
    "       \n",
    "    if state == 'fit':\n",
    "        for i in range(n+1):\n",
    "            if random.randint(1,11) == 2:\n",
    "                for p in range(i):\n",
    "                    fitExercise[n-p] = 0\n",
    "                    \n",
    "        for i in range(n+1):\n",
    "            string_in_string = \"n = {} Exercise = {}   Relax = {}\".format(i,fitExercise[i],fitRelax[i])\n",
    "            print(string_in_string)\n",
    "    if state == 'unfit':\n",
    "        for i in range(n+1):\n",
    "            if random.randint(1,11) == 2:\n",
    "                for p in range(i):\n",
    "                    unfitExercise[n-p] = 0\n",
    "        for i in range(n+1):\n",
    "            string_in_string = \"n = {} Exercise = {}   Relax = {}\".format(i,unfitExercise[i],unfitRelax[i])\n",
    "            print(string_in_string)\n",
    "    if state == 'dead':\n",
    "        for i in range(n+1):\n",
    "            print(\"n = 0 Exercise = 0   Relax = 0\")\n",
    "        "
   ]
  },
  {
   "cell_type": "code",
   "execution_count": 151,
   "metadata": {},
   "outputs": [
    {
     "name": "stdout",
     "output_type": "stream",
     "text": [
      "n = 0 Exercise = 8.0   Relax = 10.0\n",
      "n = 1 Exercise = 12.975000000000001   Relax = 14.25\n",
      "n = 2 Exercise = 15.091249999999999   Relax = 16.1125\n",
      "n = 3 Exercise = 16.019437500000002   Relax = 16.951875\n",
      "n = 4 Exercise = 16.438053125   Relax = 17.33940625\n",
      "n = 5 Exercise = 16.63144359375   Relax = 17.5219171875\n",
      "n = 6 Exercise = 16.7225677578125   Relax = 17.609233515625\n",
      "n = 7 Exercise = 16.76617996523437   Relax = 17.651512980468752\n",
      "n = 8 Exercise = 16.787303612832034   Relax = 17.67217016816406\n",
      "n = 9 Exercise = 16.797626576991213   Relax = 17.68232987135742\n",
      "n = 10 Exercise = 16.80270445819692   Relax = 17.687350611225096\n"
     ]
    }
   ],
   "source": [
    "show(10,'fit',0.5)"
   ]
  },
  {
   "cell_type": "code",
   "execution_count": null,
   "metadata": {},
   "outputs": [],
   "source": []
  }
 ],
 "metadata": {
  "kernelspec": {
   "display_name": "Python 3",
   "language": "python",
   "name": "python3"
  },
  "language_info": {
   "codemirror_mode": {
    "name": "ipython",
    "version": 3
   },
   "file_extension": ".py",
   "mimetype": "text/x-python",
   "name": "python",
   "nbconvert_exporter": "python",
   "pygments_lexer": "ipython3",
   "version": "3.6.5"
  }
 },
 "nbformat": 4,
 "nbformat_minor": 2
}
